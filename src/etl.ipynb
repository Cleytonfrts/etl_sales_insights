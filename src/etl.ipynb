{
 "cells": [
  {
   "cell_type": "markdown",
   "id": "8423e0fa",
   "metadata": {},
   "source": [
    "# 🧼 ETL de Vendas - pandas + MySQL"
   ]
  },
  {
   "cell_type": "code",
   "execution_count": null,
   "id": "d15408cd",
   "metadata": {},
   "outputs": [],
   "source": [
    "# ✅ Importações organizadas no topo\n",
    "import pandas as pd\n",
    "import mysql.connector\n",
    "from sqlalchemy import create_engine\n"
   ]
  },
  {
   "cell_type": "code",
   "execution_count": 2,
   "id": "ad7f62ef",
   "metadata": {},
   "outputs": [
    {
     "data": {
      "text/html": [
       "<div>\n",
       "<style scoped>\n",
       "    .dataframe tbody tr th:only-of-type {\n",
       "        vertical-align: middle;\n",
       "    }\n",
       "\n",
       "    .dataframe tbody tr th {\n",
       "        vertical-align: top;\n",
       "    }\n",
       "\n",
       "    .dataframe thead th {\n",
       "        text-align: right;\n",
       "    }\n",
       "</style>\n",
       "<table border=\"1\" class=\"dataframe\">\n",
       "  <thead>\n",
       "    <tr style=\"text-align: right;\">\n",
       "      <th></th>\n",
       "      <th>id_venda</th>\n",
       "      <th>data</th>\n",
       "      <th>cliente</th>\n",
       "      <th>produto</th>\n",
       "      <th>quantidade</th>\n",
       "      <th>preco</th>\n",
       "      <th>regiao</th>\n",
       "    </tr>\n",
       "  </thead>\n",
       "  <tbody>\n",
       "    <tr>\n",
       "      <th>0</th>\n",
       "      <td>1</td>\n",
       "      <td>2025-02-14</td>\n",
       "      <td>João Pedro</td>\n",
       "      <td>Monitor</td>\n",
       "      <td>2</td>\n",
       "      <td>1940.64</td>\n",
       "      <td>Sul</td>\n",
       "    </tr>\n",
       "    <tr>\n",
       "      <th>1</th>\n",
       "      <td>2</td>\n",
       "      <td>2025-01-14</td>\n",
       "      <td>Caroline</td>\n",
       "      <td>Teclado</td>\n",
       "      <td>1</td>\n",
       "      <td>230.29</td>\n",
       "      <td>Sudeste</td>\n",
       "    </tr>\n",
       "    <tr>\n",
       "      <th>2</th>\n",
       "      <td>3</td>\n",
       "      <td>2025-04-22</td>\n",
       "      <td>Pietro</td>\n",
       "      <td>Mouse</td>\n",
       "      <td>4</td>\n",
       "      <td>437.88</td>\n",
       "      <td>Centro-Oeste</td>\n",
       "    </tr>\n",
       "    <tr>\n",
       "      <th>3</th>\n",
       "      <td>4</td>\n",
       "      <td>2025-05-03</td>\n",
       "      <td>Luiz Miguel</td>\n",
       "      <td>Notebook</td>\n",
       "      <td>3</td>\n",
       "      <td>2968.72</td>\n",
       "      <td>Centro-Oeste</td>\n",
       "    </tr>\n",
       "    <tr>\n",
       "      <th>4</th>\n",
       "      <td>5</td>\n",
       "      <td>2025-01-02</td>\n",
       "      <td>Felipe</td>\n",
       "      <td>Teclado</td>\n",
       "      <td>1</td>\n",
       "      <td>3846.88</td>\n",
       "      <td>Nordeste</td>\n",
       "    </tr>\n",
       "  </tbody>\n",
       "</table>\n",
       "</div>"
      ],
      "text/plain": [
       "   id_venda        data      cliente   produto  quantidade    preco  \\\n",
       "0         1  2025-02-14   João Pedro   Monitor           2  1940.64   \n",
       "1         2  2025-01-14     Caroline   Teclado           1   230.29   \n",
       "2         3  2025-04-22       Pietro     Mouse           4   437.88   \n",
       "3         4  2025-05-03  Luiz Miguel  Notebook           3  2968.72   \n",
       "4         5  2025-01-02       Felipe   Teclado           1  3846.88   \n",
       "\n",
       "         regiao  \n",
       "0           Sul  \n",
       "1       Sudeste  \n",
       "2  Centro-Oeste  \n",
       "3  Centro-Oeste  \n",
       "4      Nordeste  "
      ]
     },
     "execution_count": 2,
     "metadata": {},
     "output_type": "execute_result"
    }
   ],
   "source": [
    "# 📥 Leitura do CSV bruto\n",
    "df = pd.read_csv('../raw/vendas_ficticias.csv')\n",
    "df.head()"
   ]
  },
  {
   "cell_type": "code",
   "execution_count": 3,
   "id": "ac4c04cf",
   "metadata": {},
   "outputs": [
    {
     "data": {
      "text/html": [
       "<div>\n",
       "<style scoped>\n",
       "    .dataframe tbody tr th:only-of-type {\n",
       "        vertical-align: middle;\n",
       "    }\n",
       "\n",
       "    .dataframe tbody tr th {\n",
       "        vertical-align: top;\n",
       "    }\n",
       "\n",
       "    .dataframe thead th {\n",
       "        text-align: right;\n",
       "    }\n",
       "</style>\n",
       "<table border=\"1\" class=\"dataframe\">\n",
       "  <thead>\n",
       "    <tr style=\"text-align: right;\">\n",
       "      <th></th>\n",
       "      <th>id_venda</th>\n",
       "      <th>data</th>\n",
       "      <th>cliente</th>\n",
       "      <th>produto</th>\n",
       "      <th>quantidade</th>\n",
       "      <th>preco</th>\n",
       "      <th>regiao</th>\n",
       "      <th>receita</th>\n",
       "    </tr>\n",
       "  </thead>\n",
       "  <tbody>\n",
       "    <tr>\n",
       "      <th>0</th>\n",
       "      <td>1</td>\n",
       "      <td>2025-02-14</td>\n",
       "      <td>João Pedro</td>\n",
       "      <td>Monitor</td>\n",
       "      <td>2</td>\n",
       "      <td>1940.64</td>\n",
       "      <td>Sul</td>\n",
       "      <td>3881.28</td>\n",
       "    </tr>\n",
       "    <tr>\n",
       "      <th>1</th>\n",
       "      <td>2</td>\n",
       "      <td>2025-01-14</td>\n",
       "      <td>Caroline</td>\n",
       "      <td>Teclado</td>\n",
       "      <td>1</td>\n",
       "      <td>230.29</td>\n",
       "      <td>Sudeste</td>\n",
       "      <td>230.29</td>\n",
       "    </tr>\n",
       "    <tr>\n",
       "      <th>2</th>\n",
       "      <td>3</td>\n",
       "      <td>2025-04-22</td>\n",
       "      <td>Pietro</td>\n",
       "      <td>Mouse</td>\n",
       "      <td>4</td>\n",
       "      <td>437.88</td>\n",
       "      <td>Centro-Oeste</td>\n",
       "      <td>1751.52</td>\n",
       "    </tr>\n",
       "    <tr>\n",
       "      <th>3</th>\n",
       "      <td>4</td>\n",
       "      <td>2025-05-03</td>\n",
       "      <td>Luiz Miguel</td>\n",
       "      <td>Notebook</td>\n",
       "      <td>3</td>\n",
       "      <td>2968.72</td>\n",
       "      <td>Centro-Oeste</td>\n",
       "      <td>8906.16</td>\n",
       "    </tr>\n",
       "    <tr>\n",
       "      <th>4</th>\n",
       "      <td>5</td>\n",
       "      <td>2025-01-02</td>\n",
       "      <td>Felipe</td>\n",
       "      <td>Teclado</td>\n",
       "      <td>1</td>\n",
       "      <td>3846.88</td>\n",
       "      <td>Nordeste</td>\n",
       "      <td>3846.88</td>\n",
       "    </tr>\n",
       "  </tbody>\n",
       "</table>\n",
       "</div>"
      ],
      "text/plain": [
       "   id_venda       data      cliente   produto  quantidade    preco  \\\n",
       "0         1 2025-02-14   João Pedro   Monitor           2  1940.64   \n",
       "1         2 2025-01-14     Caroline   Teclado           1   230.29   \n",
       "2         3 2025-04-22       Pietro     Mouse           4   437.88   \n",
       "3         4 2025-05-03  Luiz Miguel  Notebook           3  2968.72   \n",
       "4         5 2025-01-02       Felipe   Teclado           1  3846.88   \n",
       "\n",
       "         regiao  receita  \n",
       "0           Sul  3881.28  \n",
       "1       Sudeste   230.29  \n",
       "2  Centro-Oeste  1751.52  \n",
       "3  Centro-Oeste  8906.16  \n",
       "4      Nordeste  3846.88  "
      ]
     },
     "execution_count": 3,
     "metadata": {},
     "output_type": "execute_result"
    }
   ],
   "source": [
    "# 🧼 Tratamento dos dados\n",
    "df['data'] = pd.to_datetime(df['data'])\n",
    "df['receita'] = df['quantidade'] * df['preco']\n",
    "df.head()"
   ]
  },
  {
   "cell_type": "code",
   "execution_count": null,
   "id": "f20f39ad",
   "metadata": {},
   "outputs": [
    {
     "name": "stdout",
     "output_type": "stream",
     "text": [
      "✅ Dados enviados para o banco de dados com sucesso!\n"
     ]
    }
   ],
   "source": [
    "# 🛢️ Conexão com banco de dados MySQL (ajuste se necessário)\n",
    "usuario = 'seu_usuario'\n",
    "senha = 'sua_senha'\n",
    "host = 'localhost'\n",
    "porta = '3306'\n",
    "banco = 'db_vendas'\n",
    "\n",
    "# Criando engine com SQLAlchemy\n",
    "engine = create_engine(f'mysql+mysqlconnector://{usuario}:{senha}@{host}:{porta}/{banco}')\n",
    "\n",
    "# Carga dos dados na tabela 'vendas'\n",
    "df.to_sql(name='vendas', con=engine, if_exists='replace', index=False)\n",
    "print(\"✅ Dados enviados para o banco de dados com sucesso!\")"
   ]
  },
  {
   "cell_type": "code",
   "execution_count": 5,
   "id": "4c12112a",
   "metadata": {},
   "outputs": [
    {
     "name": "stdout",
     "output_type": "stream",
     "text": [
      "✅ Arquivo vendas_tratadas.csv salvo com sucesso na pasta ready!\n"
     ]
    }
   ],
   "source": [
    "# 💾 Exportação do DataFrame tratado para CSV final\n",
    "df.to_csv('../ready/vendas_tratadas.csv', index=False, encoding='utf-8')\n",
    "print(\"✅ Arquivo vendas_tratadas.csv salvo com sucesso na pasta ready!\")"
   ]
  }
 ],
 "metadata": {
  "kernelspec": {
   "display_name": ".venv",
   "language": "python",
   "name": "python3"
  },
  "language_info": {
   "codemirror_mode": {
    "name": "ipython",
    "version": 3
   },
   "file_extension": ".py",
   "mimetype": "text/x-python",
   "name": "python",
   "nbconvert_exporter": "python",
   "pygments_lexer": "ipython3",
   "version": "3.13.2"
  }
 },
 "nbformat": 4,
 "nbformat_minor": 5
}
